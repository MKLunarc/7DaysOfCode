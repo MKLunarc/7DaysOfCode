{
 "cells": [
  {
   "cell_type": "markdown",
   "metadata": {},
   "source": [
    "Connected to Python 3.11.8"
   ]
  },
  {
   "cell_type": "code",
   "execution_count": null,
   "id": "9767cbac-6253-4ba7-a153-c5e0ff5cd4f8",
   "metadata": {},
   "outputs": [],
   "source": [
    "# O seu primeiro passo é unificar em um único Dataframe todos os dados pertinentes para a análise.\n",
    "# Comece pelos empréstimos e você terá os dados das transações.\n",
    "# Depois, mescle com os dados do acervo, para que você possa entender, por exemplo, de qual biblioteca era o material emprestado ou a qual tema ele se referia.\n",
    "# Elas se relacionam pela coluna de *código de barras* de cada material."
   ]
  },
  {
   "cell_type": "markdown",
   "id": "ed92c1c5",
   "metadata": {},
   "source": [
    "Importando biblioteca Pandas para realizar a leitura dos arquivos .csv"
   ]
  },
  {
   "cell_type": "code",
   "execution_count": 2,
   "metadata": {},
   "outputs": [],
   "source": [
    "import pandas as pd"
   ]
  },
  {
   "cell_type": "markdown",
   "id": "64681f3c",
   "metadata": {},
   "source": [
    "Testando os Comandos da biblioteca para armazenar um arquivo .csv em uma variável"
   ]
  },
  {
   "cell_type": "code",
   "execution_count": null,
   "metadata": {},
   "outputs": [],
   "source": [
    "emprestimos = pd.read_csv(r\"D:\\OneDrive\\MIGUEL\\Programação\\Python\\7DaysOfCode-Alura\\7_Days_of_Code_Alura-Python-Pandas\\Dia_1-Importando_dados\\Datasets\\dados_emprestimos\\emprestimos-20101.csv\")"
   ]
  },
  {
   "cell_type": "code",
   "execution_count": null,
   "metadata": {},
   "outputs": [],
   "source": [
    "emprestimos"
   ]
  },
  {
   "cell_type": "markdown",
   "id": "93bbfe6d",
   "metadata": {},
   "source": [
    "Testando uma maneira de unir os arquivos com o pandas."
   ]
  },
  {
   "cell_type": "code",
   "execution_count": null,
   "metadata": {},
   "outputs": [],
   "source": [
    "emprestimos_2 = pd.read_csv(r\"D:\\OneDrive\\MIGUEL\\Programação\\Python\\7DaysOfCode-Alura\\7_Days_of_Code_Alura-Python-Pandas\\Dia_1-Importando_dados\\Datasets\\dados_emprestimos\\emprestimos-20102.csv\")\n",
    "\n",
    "emprestimos = pd.concat([emprestimos,emprestimos_2],ignore_index=True)\n",
    "\n"
   ]
  },
  {
   "cell_type": "code",
   "execution_count": null,
   "metadata": {},
   "outputs": [],
   "source": [
    "emprestimos"
   ]
  },
  {
   "cell_type": "markdown",
   "metadata": {},
   "source": [
    "Restarted Python 3.11.8"
   ]
  },
  {
   "cell_type": "markdown",
   "id": "718a835d",
   "metadata": {},
   "source": [
    "Ao utilizar o Concat a busca dos dados funciona porém ela fica repetitiva, devido a isso busquei uma forma alternativa de efetuar a união de todos os arquivos da atividade. Aprendendo sobre as bibliotecas internas do python cheguei a os e ao glob, bibliotecas voltadas para manipulação e consumo de dados do sistema operacional e manipulação de arquivos do computador. (Se o acesso fosse direto pelo link do github eu deveria ter que copiar link a link por esse motivo era mais simples transferir os dados para o computador e depois aplicar um loop)"
   ]
  },
  {
   "cell_type": "code",
   "execution_count": 21,
   "metadata": {},
   "outputs": [],
   "source": [
    "import pandas as pd \n",
    "import os\n",
    "import glob\n",
    "path_emprestimos = r\"D:\\OneDrive\\MIGUEL\\Programação\\Python\\7DaysOfCode-Alura\\7_Days_of_Code_Alura-Python-Pandas\\Dia_1-Importando_dados\\Datasets\\dados_emprestimos\"\n",
    "arquivo_emprestimos = glob.glob((os.path.join(r\"D:\\OneDrive\\MIGUEL\\Programação\\Python\\7DaysOfCode-Alura\\7_Days_of_Code_Alura-Python-Pandas\\Dia_1-Importando_dados\\Datasets\\dados_emprestimos\",\"*csv\")))\n",
    "emprestimos = pd.concat([pd.read_csv(arquivo) for arquivo in arquivo_emprestimos],ignore_index=True)"
   ]
  },
  {
   "cell_type": "code",
   "execution_count": null,
   "metadata": {},
   "outputs": [],
   "source": [
    "emprestimos.head"
   ]
  },
  {
   "cell_type": "code",
   "execution_count": 6,
   "id": "1047347a",
   "metadata": {},
   "outputs": [],
   "source": [
    "transações = pd.read_parquet(r\"D:\\OneDrive\\MIGUEL\\Programação\\Python\\7DaysOfCode-Alura\\7_Days_of_Code_Alura-Python-Pandas\\Dia_1-Importando_dados\\Datasets\\dados_exemplares.parquet\")"
   ]
  },
  {
   "cell_type": "code",
   "execution_count": 16,
   "id": "dead2fc8",
   "metadata": {},
   "outputs": [
    {
     "data": {
      "text/plain": [
       "<bound method NDFrame.head of         id_exemplar codigo_barras            colecao  \\\n",
       "index                                                  \n",
       "0                 5       L000003  Acervo Circulante   \n",
       "1                 4       L000002  Acervo Circulante   \n",
       "2                 3       L000001  Acervo Circulante   \n",
       "3                 7       L000114  Acervo Circulante   \n",
       "5                10       L000041  Acervo Circulante   \n",
       "...             ...           ...                ...   \n",
       "568580      1353472    2021011150  Acervo Circulante   \n",
       "568581      1353473    2019013454  Acervo Circulante   \n",
       "568582      1353474    2019012811  Acervo Circulante   \n",
       "568583      1353475    2019013451  Acervo Circulante   \n",
       "568584      1353476    2019012276  Acervo Circulante   \n",
       "\n",
       "                                               biblioteca status_material  \\\n",
       "index                                                                       \n",
       "0                          Biblioteca Central Zila Mamede         REGULAR   \n",
       "1                          Biblioteca Central Zila Mamede         REGULAR   \n",
       "2                          Biblioteca Central Zila Mamede        ESPECIAL   \n",
       "3                          Biblioteca Central Zila Mamede         REGULAR   \n",
       "5                          Biblioteca Central Zila Mamede        ESPECIAL   \n",
       "...                                                   ...             ...   \n",
       "568580  Biblioteca Setorial do Núcleo de Educação da I...         REGULAR   \n",
       "568581                     Biblioteca Central Zila Mamede        ESPECIAL   \n",
       "568582                     Biblioteca Central Zila Mamede        ESPECIAL   \n",
       "568583                     Biblioteca Central Zila Mamede        ESPECIAL   \n",
       "568584                     Biblioteca Central Zila Mamede        ESPECIAL   \n",
       "\n",
       "        localizacao  registro_sistema  \n",
       "index                                  \n",
       "0               694                 1  \n",
       "1               688                 1  \n",
       "2               638                 1  \n",
       "3               616                 5  \n",
       "5               657                15  \n",
       "...             ...               ...  \n",
       "568580          951            268231  \n",
       "568581          997            268233  \n",
       "568582          987            268234  \n",
       "568583          764            268235  \n",
       "568584          962            268236  \n",
       "\n",
       "[546237 rows x 7 columns]>"
      ]
     },
     "execution_count": 16,
     "metadata": {},
     "output_type": "execute_result"
    }
   ],
   "source": [
    "transações.head"
   ]
  },
  {
   "cell_type": "code",
   "execution_count": 17,
   "id": "ae8d6a7e",
   "metadata": {},
   "outputs": [],
   "source": [
    "dados_biblioteca = pd.merge(emprestimos, transações, on='codigo_barras', how='left')"
   ]
  },
  {
   "cell_type": "code",
   "execution_count": 18,
   "id": "1c6fe076",
   "metadata": {},
   "outputs": [
    {
     "data": {
      "text/plain": [
       "<bound method NDFrame.head of          id_emprestimo codigo_barras                 data_renovacao  \\\n",
       "0               709684       L095049                            NaN   \n",
       "1               709685       L167050                            NaN   \n",
       "2               709686    2006017618  2010/01/26 08:07:01.738000000   \n",
       "3               709687       L184117  2010/01/18 11:07:46.470000000   \n",
       "4               709684       L095049                            NaN   \n",
       "...                ...           ...                            ...   \n",
       "2261811        2989086    2008047044                            NaN   \n",
       "2261812        2989087    2008047047                            NaN   \n",
       "2261813        2989088    2010052905                            NaN   \n",
       "2261814        2989089    2010048023                            NaN   \n",
       "2261815        2989090    2013106838                            NaN   \n",
       "\n",
       "                       data_emprestimo                 data_devolucao  \\\n",
       "0        2010/01/04 07:44:10.721000000  2010/01/05 16:26:12.662000000   \n",
       "1        2010/01/04 07:44:10.750000000  2010/01/12 07:34:13.934000000   \n",
       "2        2010/01/04 08:08:44.081000000  2010/02/25 07:36:25.800000000   \n",
       "3        2010/01/04 08:24:21.284000000  2010/02/03 08:58:45.692000000   \n",
       "4        2010/01/04 07:44:10.721000000  2010/01/05 16:26:12.662000000   \n",
       "...                                ...                            ...   \n",
       "2261811  2020/05/05 19:51:06.059000000  2021/05/13 14:53:31.000000000   \n",
       "2261812  2020/05/05 19:51:06.135000000  2021/05/13 14:53:38.000000000   \n",
       "2261813  2020/05/05 19:51:06.164000000  2021/05/13 15:01:46.000000000   \n",
       "2261814  2020/06/09 11:54:02.669000000  2021/07/21 15:33:55.000000000   \n",
       "2261815  2020/06/09 11:54:02.852000000  2021/07/21 15:33:45.000000000   \n",
       "\n",
       "         matricula_ou_siape             tipo_vinculo_usuario  id_exemplar  \\\n",
       "0              2.008023e+09               ALUNO DE GRADUAÇÃO      13259.0   \n",
       "1              2.008023e+09               ALUNO DE GRADUAÇÃO      70865.0   \n",
       "2              2.008112e+09           ALUNO DE PÓS-GRADUAÇÃO     195347.0   \n",
       "3              2.007211e+08               ALUNO DE GRADUAÇÃO     131639.0   \n",
       "4              2.008023e+09               ALUNO DE GRADUAÇÃO      13259.0   \n",
       "...                     ...                              ...          ...   \n",
       "2261811        3.067431e+06  SERVIDOR TÉCNICO-ADMINISTRATIVO     256297.0   \n",
       "2261812        3.067431e+06  SERVIDOR TÉCNICO-ADMINISTRATIVO     256406.0   \n",
       "2261813        3.067431e+06  SERVIDOR TÉCNICO-ADMINISTRATIVO     807821.0   \n",
       "2261814        2.020101e+10           ALUNO DE PÓS-GRADUAÇÃO     804885.0   \n",
       "2261815        2.020101e+10           ALUNO DE PÓS-GRADUAÇÃO    1099777.0   \n",
       "\n",
       "                   colecao                                         biblioteca  \\\n",
       "0        Acervo Circulante                     Biblioteca Central Zila Mamede   \n",
       "1        Acervo Circulante                     Biblioteca Central Zila Mamede   \n",
       "2        Acervo Circulante  Biblioteca Setorial Prof. Rodolfo Helinski - E...   \n",
       "3        Acervo Circulante                     Biblioteca Central Zila Mamede   \n",
       "4        Acervo Circulante                     Biblioteca Central Zila Mamede   \n",
       "...                    ...                                                ...   \n",
       "2261811  Acervo Circulante  Biblioteca Setorial da Faculdade de Ciências d...   \n",
       "2261812  Acervo Circulante  Biblioteca Setorial da Faculdade de Ciências d...   \n",
       "2261813  Acervo Circulante  Biblioteca Setorial da Faculdade de Ciências d...   \n",
       "2261814  Acervo Circulante                     Biblioteca Central Zila Mamede   \n",
       "2261815  Acervo Circulante                     Biblioteca Central Zila Mamede   \n",
       "\n",
       "        status_material  localizacao  registro_sistema  \n",
       "0               REGULAR        630.0            4225.0  \n",
       "1               REGULAR        647.0           25009.0  \n",
       "2               REGULAR        640.0           75019.0  \n",
       "3               REGULAR        609.0           44494.0  \n",
       "4               REGULAR        630.0            4225.0  \n",
       "...                 ...          ...               ...  \n",
       "2261811         REGULAR        684.0          110098.0  \n",
       "2261812         REGULAR        628.0          110171.0  \n",
       "2261813         REGULAR        653.0          134173.0  \n",
       "2261814         REGULAR        675.0           67712.0  \n",
       "2261815         REGULAR         14.0          205153.0  \n",
       "\n",
       "[2261816 rows x 13 columns]>"
      ]
     },
     "execution_count": 18,
     "metadata": {},
     "output_type": "execute_result"
    }
   ],
   "source": [
    "dados_biblioteca.head\n"
   ]
  }
 ],
 "metadata": {
  "kernelspec": {
   "display_name": "base",
   "language": "python",
   "name": "python3"
  },
  "language_info": {
   "codemirror_mode": {
    "name": "ipython",
    "version": 3
   },
   "file_extension": ".py",
   "mimetype": "text/x-python",
   "name": "python",
   "nbconvert_exporter": "python",
   "pygments_lexer": "ipython3",
   "version": "3.12.7"
  }
 },
 "nbformat": 4,
 "nbformat_minor": 5
}
